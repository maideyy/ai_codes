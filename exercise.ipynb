{
  "metadata": {
    "kernelspec": {
      "name": "python",
      "display_name": "Python (Pyodide)",
      "language": "python"
    },
    "language_info": {
      "codemirror_mode": {
        "name": "python",
        "version": 3
      },
      "file_extension": ".py",
      "mimetype": "text/x-python",
      "name": "python",
      "nbconvert_exporter": "python",
      "pygments_lexer": "ipython3",
      "version": "3.8"
    },
    "colab": {
      "provenance": []
    }
  },
  "nbformat_minor": 4,
  "nbformat": 4,
  "cells": [
    {
      "cell_type": "code",
      "source": "import pandas as pd\nimport numpy as np\nimport matplotlib.pyplot as plt\nfrom sklearn.metrics import accuracy_score\nfrom sklearn.model_selection import train_test_split\n\n## import any library that you will use\n",
      "metadata": {
        "id": "H9UpAWfJ67d7",
        "trusted": true
      },
      "outputs": [
        {
          "name": "stderr",
          "output_type": "stream",
          "text": "Matplotlib is building the font cache; this may take a moment.\n"
        }
      ],
      "execution_count": 1
    },
    {
      "cell_type": "markdown",
      "source": "## Load Data (don't change anything in this part, just run it)",
      "metadata": {
        "id": "5bCjuRp367d8"
      }
    },
    {
      "cell_type": "code",
      "source": "df = pd.read_csv(\"dataFinal.csv\")",
      "metadata": {
        "id": "ipw0jL-A67d8"
      },
      "outputs": [],
      "execution_count": null
    },
    {
      "cell_type": "code",
      "source": "X = df.drop(\"class\", axis=1)\ny = df[\"class\"]\nX_train, X_test, y_train, y_test = train_test_split(X, y, random_state=42)",
      "metadata": {
        "id": "BxSGnRUL67d9"
      },
      "outputs": [],
      "execution_count": null
    },
    {
      "cell_type": "code",
      "source": "y_train",
      "metadata": {
        "colab": {
          "base_uri": "https://localhost:8080/"
        },
        "id": "Ty97yCP09B5D",
        "outputId": "d3fdcbe1-7b82-443f-85a0-7e8d89d0e578"
      },
      "outputs": [
        {
          "output_type": "execute_result",
          "data": {
            "text/plain": [
              "8158     3\n",
              "18368    3\n",
              "19197    2\n",
              "3746     5\n",
              "13073    2\n",
              "        ..\n",
              "11284    3\n",
              "11964    1\n",
              "5390     3\n",
              "860      3\n",
              "15795    4\n",
              "Name: class, Length: 15480, dtype: int64"
            ]
          },
          "metadata": {},
          "execution_count": 38
        }
      ],
      "execution_count": 38
    },
    {
      "cell_type": "markdown",
      "source": "## Questions:\n\n### Train the models using X_train and y_train, present test accuracy using test data set X_test, y_test. Don't use test data during training.",
      "metadata": {
        "id": "DiIxoqJK67d9"
      }
    },
    {
      "cell_type": "markdown",
      "source": "### Q1) Assume you want to remove at least two features. Implement a linear regression model to do that, and describe the process. Present the accuracy on test-set, try to improve the accuracy as much as possible.",
      "metadata": {
        "id": "I2JLwHzR67d9"
      }
    },
    {
      "cell_type": "code",
      "source": "# we can look to the coefficents to delete two features.",
      "metadata": {
        "id": "KcN8ysSJ67d9"
      },
      "outputs": [],
      "execution_count": null
    },
    {
      "cell_type": "code",
      "source": "from sklearn.linear_model import LinearRegression\n\n\nmodel = LinearRegression()\nmodel.fit(X_train, y_train)",
      "metadata": {
        "colab": {
          "base_uri": "https://localhost:8080/",
          "height": 75
        },
        "id": "pnjcd2D29JqQ",
        "outputId": "25d46a14-bc3f-44c0-87a6-d2afea10454d"
      },
      "outputs": [
        {
          "output_type": "execute_result",
          "data": {
            "text/plain": [
              "LinearRegression()"
            ],
            "text/html": [
              "<style>#sk-container-id-1 {color: black;background-color: white;}#sk-container-id-1 pre{padding: 0;}#sk-container-id-1 div.sk-toggleable {background-color: white;}#sk-container-id-1 label.sk-toggleable__label {cursor: pointer;display: block;width: 100%;margin-bottom: 0;padding: 0.3em;box-sizing: border-box;text-align: center;}#sk-container-id-1 label.sk-toggleable__label-arrow:before {content: \"▸\";float: left;margin-right: 0.25em;color: #696969;}#sk-container-id-1 label.sk-toggleable__label-arrow:hover:before {color: black;}#sk-container-id-1 div.sk-estimator:hover label.sk-toggleable__label-arrow:before {color: black;}#sk-container-id-1 div.sk-toggleable__content {max-height: 0;max-width: 0;overflow: hidden;text-align: left;background-color: #f0f8ff;}#sk-container-id-1 div.sk-toggleable__content pre {margin: 0.2em;color: black;border-radius: 0.25em;background-color: #f0f8ff;}#sk-container-id-1 input.sk-toggleable__control:checked~div.sk-toggleable__content {max-height: 200px;max-width: 100%;overflow: auto;}#sk-container-id-1 input.sk-toggleable__control:checked~label.sk-toggleable__label-arrow:before {content: \"▾\";}#sk-container-id-1 div.sk-estimator input.sk-toggleable__control:checked~label.sk-toggleable__label {background-color: #d4ebff;}#sk-container-id-1 div.sk-label input.sk-toggleable__control:checked~label.sk-toggleable__label {background-color: #d4ebff;}#sk-container-id-1 input.sk-hidden--visually {border: 0;clip: rect(1px 1px 1px 1px);clip: rect(1px, 1px, 1px, 1px);height: 1px;margin: -1px;overflow: hidden;padding: 0;position: absolute;width: 1px;}#sk-container-id-1 div.sk-estimator {font-family: monospace;background-color: #f0f8ff;border: 1px dotted black;border-radius: 0.25em;box-sizing: border-box;margin-bottom: 0.5em;}#sk-container-id-1 div.sk-estimator:hover {background-color: #d4ebff;}#sk-container-id-1 div.sk-parallel-item::after {content: \"\";width: 100%;border-bottom: 1px solid gray;flex-grow: 1;}#sk-container-id-1 div.sk-label:hover label.sk-toggleable__label {background-color: #d4ebff;}#sk-container-id-1 div.sk-serial::before {content: \"\";position: absolute;border-left: 1px solid gray;box-sizing: border-box;top: 0;bottom: 0;left: 50%;z-index: 0;}#sk-container-id-1 div.sk-serial {display: flex;flex-direction: column;align-items: center;background-color: white;padding-right: 0.2em;padding-left: 0.2em;position: relative;}#sk-container-id-1 div.sk-item {position: relative;z-index: 1;}#sk-container-id-1 div.sk-parallel {display: flex;align-items: stretch;justify-content: center;background-color: white;position: relative;}#sk-container-id-1 div.sk-item::before, #sk-container-id-1 div.sk-parallel-item::before {content: \"\";position: absolute;border-left: 1px solid gray;box-sizing: border-box;top: 0;bottom: 0;left: 50%;z-index: -1;}#sk-container-id-1 div.sk-parallel-item {display: flex;flex-direction: column;z-index: 1;position: relative;background-color: white;}#sk-container-id-1 div.sk-parallel-item:first-child::after {align-self: flex-end;width: 50%;}#sk-container-id-1 div.sk-parallel-item:last-child::after {align-self: flex-start;width: 50%;}#sk-container-id-1 div.sk-parallel-item:only-child::after {width: 0;}#sk-container-id-1 div.sk-dashed-wrapped {border: 1px dashed gray;margin: 0 0.4em 0.5em 0.4em;box-sizing: border-box;padding-bottom: 0.4em;background-color: white;}#sk-container-id-1 div.sk-label label {font-family: monospace;font-weight: bold;display: inline-block;line-height: 1.2em;}#sk-container-id-1 div.sk-label-container {text-align: center;}#sk-container-id-1 div.sk-container {/* jupyter's `normalize.less` sets `[hidden] { display: none; }` but bootstrap.min.css set `[hidden] { display: none !important; }` so we also need the `!important` here to be able to override the default hidden behavior on the sphinx rendered scikit-learn.org. See: https://github.com/scikit-learn/scikit-learn/issues/21755 */display: inline-block !important;position: relative;}#sk-container-id-1 div.sk-text-repr-fallback {display: none;}</style><div id=\"sk-container-id-1\" class=\"sk-top-container\"><div class=\"sk-text-repr-fallback\"><pre>LinearRegression()</pre><b>In a Jupyter environment, please rerun this cell to show the HTML representation or trust the notebook. <br />On GitHub, the HTML representation is unable to render, please try loading this page with nbviewer.org.</b></div><div class=\"sk-container\" hidden><div class=\"sk-item\"><div class=\"sk-estimator sk-toggleable\"><input class=\"sk-toggleable__control sk-hidden--visually\" id=\"sk-estimator-id-1\" type=\"checkbox\" checked><label for=\"sk-estimator-id-1\" class=\"sk-toggleable__label sk-toggleable__label-arrow\">LinearRegression</label><div class=\"sk-toggleable__content\"><pre>LinearRegression()</pre></div></div></div></div></div>"
            ]
          },
          "metadata": {},
          "execution_count": 23
        }
      ],
      "execution_count": 23
    },
    {
      "cell_type": "code",
      "source": "y_pred = model.predict(X_test)\n\n",
      "metadata": {
        "id": "6XjLxHHo67d-"
      },
      "outputs": [],
      "execution_count": 24
    },
    {
      "cell_type": "code",
      "source": "y_pred\n",
      "metadata": {
        "colab": {
          "base_uri": "https://localhost:8080/"
        },
        "id": "cC5xvJKQ998b",
        "outputId": "f1308f35-a13d-45e7-bb79-36c18035632d"
      },
      "outputs": [
        {
          "output_type": "execute_result",
          "data": {
            "text/plain": [
              "array([1.21197498, 2.24879649, 3.11435988, ..., 2.19481054, 2.74641729,\n",
              "       3.89469301])"
            ]
          },
          "metadata": {},
          "execution_count": 25
        }
      ],
      "execution_count": 25
    },
    {
      "cell_type": "code",
      "source": "from sklearn.metrics import accuracy_score\n\nprint(\"Coefficients:\", model.coef_)\n\n",
      "metadata": {
        "colab": {
          "base_uri": "https://localhost:8080/"
        },
        "id": "Smuq37hj-Avq",
        "outputId": "e35cfbc6-d10c-47d6-8c6a-7230f24e97c5"
      },
      "outputs": [
        {
          "output_type": "stream",
          "name": "stdout",
          "text": "Coefficients: [ 4.15072093e-01  8.16522590e-03 -1.06875334e-01  7.01253816e-01\n,  7.92534488e-06 -3.17355227e-03 -4.39597539e-01 -4.53384400e-01]\n"
        }
      ],
      "execution_count": 29
    },
    {
      "cell_type": "code",
      "source": "# we can remove f5 and f6 since they have low valued coefficents which means they have low effect on output.",
      "metadata": {
        "id": "qGAG49Zb-yBl"
      },
      "outputs": [],
      "execution_count": null
    },
    {
      "cell_type": "markdown",
      "source": "### Q2) Train logistic regression, random forest, and support vector machine models. Present training and test accuracies. Try to figure out whether there is overfitting or underfitting.",
      "metadata": {
        "id": "-M0lYIoK67d-"
      }
    },
    {
      "cell_type": "code",
      "source": "from sklearn.svm import SVC # i will implement svc here\nfrom sklearn.metrics import accuracy_score\n\nsvm_classifier = SVC(C=1.0, gamma='scale')\n\nsvm_classifier.fit(X_train, y_train) # Training our SVM model\n\n\ny_pred = svm_classifier.predict(X_test) # Make predictions with trained model with test data",
      "metadata": {
        "id": "fKIhrYZF67d-"
      },
      "outputs": [],
      "execution_count": 52
    },
    {
      "cell_type": "code",
      "source": "y_pred",
      "metadata": {
        "colab": {
          "base_uri": "https://localhost:8080/"
        },
        "id": "Wj46tx7V_m_Y",
        "outputId": "d876d2a3-b338-4063-82e1-1319dad4a543"
      },
      "outputs": [
        {
          "output_type": "execute_result",
          "data": {
            "text/plain": [
              "array([2, 2, 2, ..., 2, 2, 2])"
            ]
          },
          "metadata": {},
          "execution_count": 53
        }
      ],
      "execution_count": 53
    },
    {
      "cell_type": "code",
      "source": "from sklearn.metrics import mean_squared_error # mse is not optimal for classifacation but still gives information\nmse = mean_squared_error(y_test, y_pred)\nprint(\"MSE:\", mse)\n",
      "metadata": {
        "colab": {
          "base_uri": "https://localhost:8080/"
        },
        "id": "4oIEUh6R_0pI",
        "outputId": "1f3a4c8a-d643-44fb-b686-7badf7d062eb"
      },
      "outputs": [
        {
          "output_type": "stream",
          "name": "stdout",
          "text": "MSE: 1.5689922480620155\n"
        }
      ],
      "execution_count": 54
    },
    {
      "cell_type": "code",
      "source": "\nr2_score = model.score(X_test, y_test)\nprint(\"R2 Score:\", r2_score)\n",
      "metadata": {
        "colab": {
          "base_uri": "https://localhost:8080/"
        },
        "id": "OK8ZJ_DfAXnj",
        "outputId": "c2400907-ce07-48a7-b3ab-b06850569f90"
      },
      "outputs": [
        {
          "output_type": "stream",
          "name": "stdout",
          "text": "R2 Score: 0.5609873545535708\n"
        }
      ],
      "execution_count": 55
    },
    {
      "cell_type": "code",
      "source": "\n\nfrom sklearn.metrics import accuracy_score\n\naccuracy = accuracy_score(y_test, y_pred)\n\nprint(\"Accuracy:\", accuracy)\n",
      "metadata": {
        "colab": {
          "base_uri": "https://localhost:8080/"
        },
        "id": "bIoV7vA4CNQW",
        "outputId": "086fd53b-fe34-4e19-e57c-3d908439d43c"
      },
      "outputs": [
        {
          "output_type": "stream",
          "name": "stdout",
          "text": "Accuracy: 0.40096899224806204\n"
        }
      ],
      "execution_count": 56
    },
    {
      "cell_type": "code",
      "source": "# by looking at predictions, mse and r2 we can say we are getting underfit with 40 percent accuracy",
      "metadata": {
        "id": "62ZwYV8bAtZy"
      },
      "outputs": [],
      "execution_count": null
    },
    {
      "cell_type": "markdown",
      "source": "### Q3) If the test accuracy of a model in Q2 is below 59%, define proper feature engineering and hyperparameter tuning processes to improve its accuracy. Present training and test accuracies. Try to figure out whether there is overfitting or underfitting. Also plot confusion matrix and give a brief discussion on it.",
      "metadata": {
        "id": "bFo0XvrP67d-"
      }
    },
    {
      "cell_type": "code",
      "source": "# we can implement scaler to get better results",
      "metadata": {
        "id": "OXnmIKrH67d_"
      },
      "outputs": [],
      "execution_count": null
    },
    {
      "cell_type": "code",
      "source": "from sklearn.preprocessing import StandardScaler",
      "metadata": {
        "id": "1HZcOeBfA34V"
      },
      "outputs": [],
      "execution_count": 40
    },
    {
      "cell_type": "code",
      "source": "standard_scaler = StandardScaler()\nX_train_scaled = standard_scaler.fit_transform(X_train) # Scaling data with sklearn\nX_test_scaled = standard_scaler.transform(X_test)",
      "metadata": {
        "id": "EC32BSLKBAqW"
      },
      "outputs": [],
      "execution_count": 41
    },
    {
      "cell_type": "code",
      "source": "svm_classifier2 = SVC(C=1.0, gamma='scale') # Support Vector Classifier from sklearn with C value of 1\n\nsvm_classifier2.fit(X_train_scaled, y_train) # Training our SVM model\n\n\ny_pred2 = svm_classifier2.predict(X_test_scaled) # Make predictions with trained model with test data",
      "metadata": {
        "id": "j3QOQTEqBIVi"
      },
      "outputs": [],
      "execution_count": 43
    },
    {
      "cell_type": "code",
      "source": "y_pred2",
      "metadata": {
        "colab": {
          "base_uri": "https://localhost:8080/"
        },
        "id": "HFddDPsvBYRq",
        "outputId": "4848847f-5e48-4aea-ed50-19bd3bedbad3"
      },
      "outputs": [
        {
          "output_type": "execute_result",
          "data": {
            "text/plain": [
              "array([1, 2, 3, ..., 2, 3, 5])"
            ]
          },
          "metadata": {},
          "execution_count": 45
        }
      ],
      "execution_count": 45
    },
    {
      "cell_type": "code",
      "source": "accuracy = accuracy_score(y_test, y_pred2)\n\nprint(\"Accuracy:\", accuracy)\n",
      "metadata": {
        "colab": {
          "base_uri": "https://localhost:8080/"
        },
        "id": "Gch_UiRdBj2L",
        "outputId": "fdfa8a76-885b-4e9e-a5b5-57d17ace3d45"
      },
      "outputs": [
        {
          "output_type": "stream",
          "name": "stdout",
          "text": "Accuracy: 0.6521317829457365\n"
        }
      ],
      "execution_count": 57
    },
    {
      "cell_type": "code",
      "source": "# after implementing standart scaler we get better performance, and this time predictions are not all two's.",
      "metadata": {
        "id": "RQaR3rnpCodM"
      },
      "outputs": [],
      "execution_count": null
    },
    {
      "cell_type": "markdown",
      "source": "### Q4) Train a neural network model, which has at least 3 hidden layers. Give the classification accuracies on training and test sets.",
      "metadata": {
        "id": "aY3NvsuO67d_"
      }
    },
    {
      "cell_type": "code",
      "source": "from keras.models import Sequential\nfrom keras.layers import Dense\nmodel = Sequential([\n    Dense(32, activation='relu', input_shape=(X_train.shape[1],)),\n    Dense(16, activation='relu'),\n    Dense(8, activation='relu'),\n    Dense(4, activation='relu'),\n    Dense(1, activation='linear'), #ı will try linear output and round the output for classifications task\n])\n\nmodel.compile(optimizer='adam', loss='mse')\n\nhist = model.fit(X_train, y_train, batch_size=32, epochs=20, validation_split=0.1)",
      "metadata": {
        "id": "NJdQnFpf67d_",
        "colab": {
          "base_uri": "https://localhost:8080/"
        },
        "outputId": "4c7be47c-1071-4468-c529-b589a8e1e62d"
      },
      "outputs": [
        {
          "output_type": "stream",
          "name": "stdout",
          "text": "Epoch 1/20\n,436/436 [==============================] - 9s 10ms/step - loss: 1628.9922 - val_loss: 1.3841\n,Epoch 2/20\n,436/436 [==============================] - 3s 8ms/step - loss: 1.3957 - val_loss: 1.3790\n,Epoch 3/20\n,436/436 [==============================] - 4s 10ms/step - loss: 1.3764 - val_loss: 1.3759\n,Epoch 4/20\n,436/436 [==============================] - 2s 5ms/step - loss: 1.3481 - val_loss: 1.4950\n,Epoch 5/20\n,436/436 [==============================] - 2s 4ms/step - loss: 1.1968 - val_loss: 1.0732\n,Epoch 6/20\n,436/436 [==============================] - 2s 4ms/step - loss: 0.9353 - val_loss: 0.8046\n,Epoch 7/20\n,436/436 [==============================] - 2s 4ms/step - loss: 0.8728 - val_loss: 0.7125\n,Epoch 8/20\n,436/436 [==============================] - 1s 3ms/step - loss: 0.6861 - val_loss: 0.7752\n,Epoch 9/20\n,436/436 [==============================] - 1s 3ms/step - loss: 0.6678 - val_loss: 0.6624\n,Epoch 10/20\n,436/436 [==============================] - 1s 3ms/step - loss: 0.6468 - val_loss: 0.6454\n,Epoch 11/20\n,436/436 [==============================] - 2s 5ms/step - loss: 0.6395 - val_loss: 0.6399\n,Epoch 12/20\n,436/436 [==============================] - 2s 5ms/step - loss: 0.6367 - val_loss: 0.6661\n,Epoch 13/20\n,436/436 [==============================] - 2s 3ms/step - loss: 0.6370 - val_loss: 0.6740\n,Epoch 14/20\n,436/436 [==============================] - 1s 3ms/step - loss: 0.6492 - val_loss: 0.7358\n,Epoch 15/20\n,436/436 [==============================] - 1s 3ms/step - loss: 0.6213 - val_loss: 0.6231\n,Epoch 16/20\n,436/436 [==============================] - 1s 3ms/step - loss: 0.6327 - val_loss: 0.6798\n,Epoch 17/20\n,436/436 [==============================] - 1s 3ms/step - loss: 0.6227 - val_loss: 0.6567\n,Epoch 18/20\n,436/436 [==============================] - 1s 3ms/step - loss: 0.6384 - val_loss: 0.6227\n,Epoch 19/20\n,436/436 [==============================] - 2s 4ms/step - loss: 0.6458 - val_loss: 0.6850\n,Epoch 20/20\n,436/436 [==============================] - 2s 5ms/step - loss: 0.6292 - val_loss: 0.6182\n"
        }
      ],
      "execution_count": 83
    },
    {
      "cell_type": "code",
      "source": "\npredictions = model.predict(X_test)\npredictions_train = model.predict(X_train)\n",
      "metadata": {
        "colab": {
          "base_uri": "https://localhost:8080/"
        },
        "id": "d0nSuaRfE2kS",
        "outputId": "ebc3656f-bdcf-4685-8063-421d75796865"
      },
      "outputs": [
        {
          "output_type": "stream",
          "name": "stdout",
          "text": "162/162 [==============================] - 1s 7ms/step\n,484/484 [==============================] - 1s 2ms/step\n"
        }
      ],
      "execution_count": 99
    },
    {
      "cell_type": "code",
      "source": "predictions",
      "metadata": {
        "colab": {
          "base_uri": "https://localhost:8080/"
        },
        "id": "0TljCyJ5F6MP",
        "outputId": "b628324b-e156-45f1-e914-67cc8d7b3536"
      },
      "outputs": [
        {
          "output_type": "execute_result",
          "data": {
            "text/plain": [
              "array([[1.2673674],\n",
              "       [2.0519705],\n",
              "       [3.311345 ],\n",
              "       ...,\n",
              "       [1.6043963],\n",
              "       [3.3438225],\n",
              "       [3.9689646]], dtype=float32)"
            ]
          },
          "metadata": {},
          "execution_count": 100
        }
      ],
      "execution_count": 100
    },
    {
      "cell_type": "code",
      "source": "\nrounded_predictions = np.round(predictions)\nrounded_predictions_train = np.round(predictions_train)\n",
      "metadata": {
        "id": "glDMw36nFEz6"
      },
      "outputs": [],
      "execution_count": 101
    },
    {
      "cell_type": "code",
      "source": "rounded_predictions",
      "metadata": {
        "colab": {
          "base_uri": "https://localhost:8080/"
        },
        "id": "dWdfgQF0GT7C",
        "outputId": "530e9a12-f622-4079-c5d1-b5e485c6d520"
      },
      "outputs": [
        {
          "output_type": "execute_result",
          "data": {
            "text/plain": [
              "array([[1.],\n",
              "       [2.],\n",
              "       [3.],\n",
              "       ...,\n",
              "       [2.],\n",
              "       [3.],\n",
              "       [4.]], dtype=float32)"
            ]
          },
          "metadata": {},
          "execution_count": 102
        }
      ],
      "execution_count": 102
    },
    {
      "cell_type": "code",
      "source": "\nrounded_predictions = np.clip(rounded_predictions, 1, 5)\nrounded_predictions_train = np.clip(rounded_predictions_train, 1, 5)\n",
      "metadata": {
        "id": "AS37j863Gta8"
      },
      "outputs": [],
      "execution_count": 117
    },
    {
      "cell_type": "code",
      "source": "accuracy = accuracy_score(y_test, rounded_predictions)\naccuracy_train = accuracy_score(y_train, rounded_predictions_train)\nprint(\"Accuracy of test data:\", accuracy)\nprint(\"Accuracy of train data:\", accuracy_train)",
      "metadata": {
        "colab": {
          "base_uri": "https://localhost:8080/"
        },
        "id": "smhshBZgGbTK",
        "outputId": "0a5721e1-deeb-49be-d0b0-813741b7de40"
      },
      "outputs": [
        {
          "output_type": "stream",
          "name": "stdout",
          "text": "Accuracy of test data: 0.5391472868217054\n,Accuracy of train data: 0.5278423772609819\n"
        }
      ],
      "execution_count": 106
    },
    {
      "cell_type": "code",
      "source": "# I used rounding for classification after predicting with linear function output of neural network and get a score of 53 percent which is better than svc without scaling.\n# The model above did not use scaling. We also get similiar result for test and train part of data while predicting, this means the alghorithm didt overfitted to the training set\n# Now I will plot condusion matrixes and history of metrics for test data.",
      "metadata": {
        "id": "jMZ2eyt-Gfee"
      },
      "outputs": [],
      "execution_count": null
    },
    {
      "cell_type": "code",
      "source": "import matplotlib.pyplot as plt\n\nplt.plot(hist.history['loss'])\nplt.plot(hist.history['val_loss'])\nplt.title('Model loss')\nplt.ylabel('Loss')\nplt.xlabel('Epoch')\nplt.legend(['Train', 'Val'])\nplt.show()",
      "metadata": {
        "colab": {
          "base_uri": "https://localhost:8080/",
          "height": 472
        },
        "id": "oQYtAk4AHRtr",
        "outputId": "4a388fd5-920a-4f62-c4bd-edb5d192a0ce"
      },
      "outputs": [
        {
          "output_type": "display_data",
          "data": {
            "text/plain": [
              "<Figure size 640x480 with 1 Axes>"
            ],
            "image/png": "[encoded data removed]"
          },
          "metadata": {}
        }
      ],
      "execution_count": 90
    },
    {
      "cell_type": "code",
      "source": "# Our model converges really fast with using mean squared error lost function. By looking the loss and validation loss values we can say we dont have\n# overfitting with predictions since our loss and validation loss converged at close numbers and we dont have a big difference.\n# Also we have a bad scaled graph because of high loss at starting, we can look to the values in list form given below and make the same comments.\n",
      "metadata": {
        "id": "SqybF9OJH57g"
      },
      "outputs": [],
      "execution_count": null
    },
    {
      "cell_type": "code",
      "source": "hist.history['loss']",
      "metadata": {
        "colab": {
          "base_uri": "https://localhost:8080/"
        },
        "id": "vFlXeCLhIoSK",
        "outputId": "fb7a75cb-f1ad-48e1-8f29-0867f114fa9c"
      },
      "outputs": [
        {
          "output_type": "execute_result",
          "data": {
            "text/plain": [
              "[1628.9921875,\n",
              " 1.3957011699676514,\n",
              " 1.3764265775680542,\n",
              " 1.3480885028839111,\n",
              " 1.1967955827713013,\n",
              " 0.935265064239502,\n",
              " 0.8727573156356812,\n",
              " 0.6860623359680176,\n",
              " 0.6677820682525635,\n",
              " 0.6467607021331787,\n",
              " 0.6394571661949158,\n",
              " 0.6366757154464722,\n",
              " 0.6369916796684265,\n",
              " 0.6492341160774231,\n",
              " 0.6212646961212158,\n",
              " 0.6327148675918579,\n",
              " 0.6227173805236816,\n",
              " 0.6384406089782715,\n",
              " 0.6458334922790527,\n",
              " 0.6292092800140381]"
            ]
          },
          "metadata": {},
          "execution_count": 91
        }
      ],
      "execution_count": 91
    },
    {
      "cell_type": "code",
      "source": "hist.history['val_loss']",
      "metadata": {
        "colab": {
          "base_uri": "https://localhost:8080/"
        },
        "id": "IemuRtR5IqIx",
        "outputId": "b576167b-3bca-412a-e173-f25ff6115eab"
      },
      "outputs": [
        {
          "output_type": "execute_result",
          "data": {
            "text/plain": [
              "[1.3840899467468262,\n",
              " 1.3790247440338135,\n",
              " 1.3759373426437378,\n",
              " 1.4949697256088257,\n",
              " 1.073173999786377,\n",
              " 0.8046289086341858,\n",
              " 0.7125245928764343,\n",
              " 0.775240421295166,\n",
              " 0.6623964905738831,\n",
              " 0.6454007029533386,\n",
              " 0.6398743391036987,\n",
              " 0.6660552024841309,\n",
              " 0.674017071723938,\n",
              " 0.7358132004737854,\n",
              " 0.6231474280357361,\n",
              " 0.6797879338264465,\n",
              " 0.656650960445404,\n",
              " 0.6226813197135925,\n",
              " 0.6849727034568787,\n",
              " 0.6182396411895752]"
            ]
          },
          "metadata": {},
          "execution_count": 92
        }
      ],
      "execution_count": 92
    },
    {
      "cell_type": "code",
      "source": "# To make better comments now I will add confusion matrix.",
      "metadata": {
        "id": "WL4v9ff0I_2g"
      },
      "outputs": [],
      "execution_count": null
    },
    {
      "cell_type": "code",
      "source": "from sklearn.metrics import confusion_matrix\nimport seaborn as sns",
      "metadata": {
        "id": "uA_zXpwDJUYy"
      },
      "outputs": [],
      "execution_count": 93
    },
    {
      "cell_type": "code",
      "source": "conf_1 = confusion_matrix(y_test, rounded_predictions)",
      "metadata": {
        "id": "C7-EiBpGJLE3"
      },
      "outputs": [],
      "execution_count": 96
    },
    {
      "cell_type": "code",
      "source": "plt.figure(figsize=(10, 8))\nsns.heatmap(conf_1, annot=True, cmap='Blues', fmt='g', xticklabels=np.arange(1, 6), yticklabels=np.arange(1, 6))\nplt.xlabel('Predicted')\nplt.ylabel('True')\nplt.title('Confusion Matrix - test data')\nplt.show()",
      "metadata": {
        "colab": {
          "base_uri": "https://localhost:8080/",
          "height": 718
        },
        "id": "WzWUZU4kJdvD",
        "outputId": "52d82dc5-1ad7-4d63-b080-e24bd2064642"
      },
      "outputs": [
        {
          "output_type": "display_data",
          "data": {
            "text/plain": [
              "<Figure size 1000x800 with 2 Axes>"
            ],
            "image/png": "[encoded data removed]"
          },
          "metadata": {}
        }
      ],
      "execution_count": 107
    },
    {
      "cell_type": "markdown",
      "source": "### Q5) If the test accuracy in Q4 is below 67%, define proper feature engineering and hyperparameter tuning processes (or another modification) to improve the performance.  Plot loss curves. Try to figure out whether there is overfitting or underfitting.",
      "metadata": {
        "id": "UAlQUO1A67d_"
      }
    },
    {
      "cell_type": "code",
      "source": "# since we have 53 percent accuracy I will add feature engineering, hyperparameter tuning.",
      "metadata": {
        "id": "EFQpNbcQ67d_"
      },
      "outputs": [],
      "execution_count": null
    },
    {
      "cell_type": "code",
      "source": "from keras.layers import Dropout\nfrom keras import regularizers\n\nmodel2 = Sequential([\n    Dense(32, activation='relu', kernel_regularizer=regularizers.l2(0.01), input_shape=(X_train.shape[1],)),\n    Dropout(0.1),\n    Dense(16, activation='relu', kernel_regularizer=regularizers.l2(0.01)),\n    Dense(8, activation='relu', kernel_regularizer=regularizers.l2(0.01)),\n    Dense(4, activation='relu', kernel_regularizer=regularizers.l2(0.01)),\n    Dense(1, activation='linear'),\n])",
      "metadata": {
        "id": "cO07h-ZFLEyp"
      },
      "outputs": [],
      "execution_count": 109
    },
    {
      "cell_type": "code",
      "source": "# In this model I will use scaled data (which is used for second svm code above), add dropouts and a L2 regularizer.",
      "metadata": {
        "id": "MVzN12ifLeOB"
      },
      "outputs": [],
      "execution_count": null
    },
    {
      "cell_type": "code",
      "source": "model2.compile(optimizer='adam', loss='mse')\n\nhist2 = model2.fit(X_train_scaled, y_train, batch_size=32, epochs=20, validation_split=0.1)",
      "metadata": {
        "colab": {
          "base_uri": "https://localhost:8080/"
        },
        "id": "KYxAgJ5NL4tj",
        "outputId": "1ed8bafb-b75f-4b16-b8a2-630c5fbdb6ae"
      },
      "outputs": [
        {
          "output_type": "stream",
          "name": "stdout",
          "text": "Epoch 1/20\n,436/436 [==============================] - 6s 4ms/step - loss: 1.7616 - val_loss: 0.9415\n,Epoch 2/20\n,436/436 [==============================] - 3s 6ms/step - loss: 0.9210 - val_loss: 0.8232\n,Epoch 3/20\n,436/436 [==============================] - 3s 6ms/step - loss: 0.8080 - val_loss: 0.7747\n,Epoch 4/20\n,436/436 [==============================] - 1s 3ms/step - loss: 0.7499 - val_loss: 0.7276\n,Epoch 5/20\n,436/436 [==============================] - 2s 5ms/step - loss: 0.7046 - val_loss: 0.6924\n,Epoch 6/20\n,436/436 [==============================] - 2s 5ms/step - loss: 0.6678 - val_loss: 0.6609\n,Epoch 7/20\n,436/436 [==============================] - 1s 3ms/step - loss: 0.6427 - val_loss: 0.6352\n,Epoch 8/20\n,436/436 [==============================] - 1s 3ms/step - loss: 0.6203 - val_loss: 0.6212\n,Epoch 9/20\n,436/436 [==============================] - 1s 3ms/step - loss: 0.6037 - val_loss: 0.6025\n,Epoch 10/20\n,436/436 [==============================] - 1s 3ms/step - loss: 0.5837 - val_loss: 0.5973\n,Epoch 11/20\n,436/436 [==============================] - 1s 3ms/step - loss: 0.5799 - val_loss: 0.5787\n,Epoch 12/20\n,436/436 [==============================] - 1s 3ms/step - loss: 0.5662 - val_loss: 0.5839\n,Epoch 13/20\n,436/436 [==============================] - 1s 3ms/step - loss: 0.5567 - val_loss: 0.5652\n,Epoch 14/20\n,436/436 [==============================] - 2s 4ms/step - loss: 0.5501 - val_loss: 0.5571\n,Epoch 15/20\n,436/436 [==============================] - 4s 9ms/step - loss: 0.5436 - val_loss: 0.5527\n,Epoch 16/20\n,436/436 [==============================] - 2s 5ms/step - loss: 0.5411 - val_loss: 0.5482\n,Epoch 17/20\n,436/436 [==============================] - 2s 4ms/step - loss: 0.5388 - val_loss: 0.5485\n,Epoch 18/20\n,436/436 [==============================] - 1s 3ms/step - loss: 0.5315 - val_loss: 0.5443\n,Epoch 19/20\n,436/436 [==============================] - 1s 3ms/step - loss: 0.5277 - val_loss: 0.5481\n,Epoch 20/20\n,436/436 [==============================] - 1s 3ms/step - loss: 0.5218 - val_loss: 0.5326\n"
        }
      ],
      "execution_count": 111
    },
    {
      "cell_type": "code",
      "source": "predictions2 = model2.predict(X_test_scaled)",
      "metadata": {
        "colab": {
          "base_uri": "https://localhost:8080/"
        },
        "id": "lNa7ZK-BMMQU",
        "outputId": "c8579a20-9dd4-4e22-c933-65aeb69386f4"
      },
      "outputs": [
        {
          "output_type": "stream",
          "name": "stdout",
          "text": "162/162 [==============================] - 1s 6ms/step\n"
        }
      ],
      "execution_count": 112
    },
    {
      "cell_type": "code",
      "source": "predictions2",
      "metadata": {
        "colab": {
          "base_uri": "https://localhost:8080/"
        },
        "id": "LdP_WW9cMQVZ",
        "outputId": "dafa63d3-8fc4-4ee1-fb5c-4d3eae107201"
      },
      "outputs": [
        {
          "output_type": "execute_result",
          "data": {
            "text/plain": [
              "array([[1.2372692],\n",
              "       [2.2180595],\n",
              "       [3.9782324],\n",
              "       ...,\n",
              "       [2.012907 ],\n",
              "       [2.750502 ],\n",
              "       [4.3554707]], dtype=float32)"
            ]
          },
          "metadata": {},
          "execution_count": 113
        }
      ],
      "execution_count": 113
    },
    {
      "cell_type": "code",
      "source": "rounded_predictions2 = np.round(predictions2)\nrounded_predictions2 = np.clip(rounded_predictions2, 1, 5)",
      "metadata": {
        "id": "pNqyot6VMUgJ"
      },
      "outputs": [],
      "execution_count": 122
    },
    {
      "cell_type": "code",
      "source": "accuracy2 = accuracy_score(y_test, rounded_predictions2)\nprint(\"Accuracy of test data:\", accuracy2)",
      "metadata": {
        "colab": {
          "base_uri": "https://localhost:8080/"
        },
        "id": "phqtmi-tMb2U",
        "outputId": "900d24aa-4625-4477-e8d0-43088d1e3a94"
      },
      "outputs": [
        {
          "output_type": "stream",
          "name": "stdout",
          "text": "Accuracy of test data: 0.6168604651162791\n"
        }
      ],
      "execution_count": 123
    },
    {
      "cell_type": "code",
      "source": "\nplt.plot(hist2.history['loss'])\nplt.plot(hist2.history['val_loss'])\nplt.title('Model loss')\nplt.ylabel('Loss')\nplt.xlabel('Epoch')\nplt.legend(['Train', 'Val'])\nplt.show()",
      "metadata": {
        "colab": {
          "base_uri": "https://localhost:8080/",
          "height": 472
        },
        "id": "d1PyMbz4MrBi",
        "outputId": "62ee2842-92a4-4af3-eb3e-2b6b9120974a"
      },
      "outputs": [
        {
          "output_type": "display_data",
          "data": {
            "text/plain": [
              "<Figure size 640x480 with 1 Axes>"
            ],
            "image/png": "[encoded data removed]"
          },
          "metadata": {}
        }
      ],
      "execution_count": 124
    },
    {
      "cell_type": "code",
      "source": "conf_2 = confusion_matrix(y_test, rounded_predictions2)",
      "metadata": {
        "id": "MMMyVk4WM6Kc"
      },
      "outputs": [],
      "execution_count": 125
    },
    {
      "cell_type": "code",
      "source": "plt.figure(figsize=(10, 8))\nsns.heatmap(conf_2, annot=True, cmap='Blues', fmt='g', xticklabels=np.arange(1, 6), yticklabels=np.arange(1, 6))\nplt.xlabel('Predicted')\nplt.ylabel('True')\nplt.title('Confusion Matrix - test data')\nplt.show()",
      "metadata": {
        "colab": {
          "base_uri": "https://localhost:8080/",
          "height": 718
        },
        "id": "ExRPtQh9NAAr",
        "outputId": "0799a230-b493-44b3-b741-390458ce4eb3"
      },
      "outputs": [
        {
          "output_type": "display_data",
          "data": {
            "text/plain": [
              "<Figure size 1000x800 with 2 Axes>"
            ],
            "image/png": "[encoded data removed]"
          },
          "metadata": {}
        }
      ],
      "execution_count": 126
    },
    {
      "cell_type": "code",
      "source": "# This time model performed 61 percent succes which is better than without scaling, dropout and L2. Our model doesnt have overfitting since we loss graph is not differ too much and we get a good confusion matrix.\n# We have a slight underfit because of low score respectively.",
      "metadata": {
        "id": "bQGt8YK6NPqp"
      },
      "outputs": [],
      "execution_count": null
    }
  ]
}